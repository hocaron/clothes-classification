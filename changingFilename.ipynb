{
 "cells": [
  {
   "cell_type": "code",
   "execution_count": 23,
   "id": "78be65c5",
   "metadata": {},
   "outputs": [
    {
     "name": "stdout",
     "output_type": "stream",
     "text": [
      "['00000001.jpg', '00000002.jpg', '00000003.jpg', '00000004.jpg', '00000005.jpg', '00000006.jpg', '00000007.jpg', '00000008.jpg', '00000009.jpg', '00000010.jpg', '00000011.jpg', '00000012.jpg', '00000013.jpg', '00000014.jpg', '00000015.jpg', '00000016.jpg', '00000017.jpg', '00000018.jpg', '00000019.jpg', '00000020.jpg', '00000021.jpg', '00000022.jpg', '00000023.jpg', '00000024.jpg', '00000025.jpg', '00000026.jpg', '00000027.jpg', '00000028.jpg', '00000029.jpg', '00000030.jpg', '00000031.jpg', '00000032.jpg', '00000033.jpg', '00000034.jpg', '00000035.jpg', '00000036.jpg', '00000037.jpg', '00000038.jpg', '00000039.jpg', '00000040.jpg', '00000041.jpg']\n"
     ]
    }
   ],
   "source": [
    "import os\n",
    "import shutil\n",
    "\n",
    "path = \"C:/Users/User/img/\"\n",
    "category = \"Skirt\"\n",
    "file_list = os.listdir(path + category)\n",
    "print (file_list)\n",
    "\n",
    "i = 1\n",
    "for name  in file_list:\n",
    "    src = os.path.join(path + category, name)\n",
    "    if(i < 10):\n",
    "        dst = \"img_0000000\" + \"{}\".format(i) + '.jpg'\n",
    "    elif(10 <= i and i < 100):\n",
    "        dst = 'img_000000' + \"{}\".format(i) + '.jpg'\n",
    "    dst = os.path.join(path + category, dst)\n",
    "    os.rename(src, dst)\n",
    "    i += 1"
   ]
  },
  {
   "cell_type": "code",
   "execution_count": null,
   "id": "2715750e",
   "metadata": {},
   "outputs": [],
   "source": []
  },
  {
   "cell_type": "code",
   "execution_count": null,
   "id": "ed82ab16",
   "metadata": {},
   "outputs": [],
   "source": []
  }
 ],
 "metadata": {
  "kernelspec": {
   "display_name": "Python 3 (ipykernel)",
   "language": "python",
   "name": "python3"
  },
  "language_info": {
   "codemirror_mode": {
    "name": "ipython",
    "version": 3
   },
   "file_extension": ".py",
   "mimetype": "text/x-python",
   "name": "python",
   "nbconvert_exporter": "python",
   "pygments_lexer": "ipython3",
   "version": "3.8.11"
  }
 },
 "nbformat": 4,
 "nbformat_minor": 5
}
